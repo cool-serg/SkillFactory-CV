{
 "cells": [
  {
   "cell_type": "markdown",
   "id": "d99503c0",
   "metadata": {},
   "source": [
    "### Пример инференса после обучения модели\n"
   ]
  },
  {
   "cell_type": "markdown",
   "id": "1c59bf5f",
   "metadata": {},
   "source": [
    "| Content | 0.0 | 0.2 | 0.4 | 0.6 | 0.8 | 1.0 | Style |\n",
    "|---------|-----|-----|-----|-----|-----|-----|-------|\n",
    "| ![](stylized_outputs/000000000081.jpg) | ![](stylized_outputs/000000000081_stylized_cobwebbed_0030_0.jpg) | ![](stylized_outputs/000000000081_stylized_cobwebbed_0030_1.jpg) | ![](stylized_outputs/000000000081_stylized_cobwebbed_0030_2.jpg) | ![](stylized_outputs/000000000081_stylized_cobwebbed_0030_3.jpg) | ![](stylized_outputs/000000000081_stylized_cobwebbed_0030_4.jpg) | ![](stylized_outputs/000000000081_stylized_cobwebbed_0030_5.jpg) | ![](stylized_outputs/cobwebbed_0030.jpg) |\n",
    "| ![](stylized_outputs/000000000394.jpg) | ![](stylized_outputs/000000000394_stylized_cobwebbed_0030_0.jpg) | ![](stylized_outputs/000000000394_stylized_cobwebbed_0030_1.jpg) | ![](stylized_outputs/000000000394_stylized_cobwebbed_0030_2.jpg) | ![](stylized_outputs/000000000394_stylized_cobwebbed_0030_3.jpg) | ![](stylized_outputs/000000000394_stylized_cobwebbed_0030_4.jpg) | ![](stylized_outputs/000000000394_stylized_cobwebbed_0030_5.jpg) | ![](stylized_outputs/cobwebbed_0030.jpg) |\n"
   ]
  }
 ],
 "metadata": {
  "kernelspec": {
   "display_name": "Python 3",
   "language": "python",
   "name": "python3"
  },
  "language_info": {
   "codemirror_mode": {
    "name": "ipython",
    "version": 3
   },
   "file_extension": ".py",
   "mimetype": "text/x-python",
   "name": "python",
   "nbconvert_exporter": "python",
   "pygments_lexer": "ipython3",
   "version": "3.7.9"
  }
 },
 "nbformat": 4,
 "nbformat_minor": 5
}
